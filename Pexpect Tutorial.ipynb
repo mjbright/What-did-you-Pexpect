{
 "cells": [
  {
   "cell_type": "markdown",
   "metadata": {
    "slideshow": {
     "slide_type": "slide"
    }
   },
   "source": [
    "<center>\n",
    "<h1>What did you Expect?</h1>\n",
    "<h1>Python module - Pexpect</h1>\n",
    "</center>"
   ]
  },
  {
   "cell_type": "markdown",
   "metadata": {
    "slideshow": {
     "slide_type": "slide"
    }
   },
   "source": [
    "# Overview\n",
    "- Expect, tcl, Pexpect\n",
    "- Pexpect capabilities\n",
    "- Pexpect examples\n",
    "- Pexpect demos\n",
    "  - One off password login\n",
    "  - Multi-hop ssh key setup\n",
    "  - Switch config: login, navigation, paging"
   ]
  },
  {
   "cell_type": "markdown",
   "metadata": {
    "slideshow": {
     "slide_type": "slide"
    }
   },
   "source": [
    "Note: To run most of these demonstration elements it is sufficient to have\n",
    "- Jupyter installed with bash_kernel extension\n",
    "- pexpect module imported\n",
    "- A set of machines available with addresses 172.17.0.2, 172.17.0.3, 172.17.0.4 each with user/password as login\n",
    "    This can be done using "
   ]
  },
  {
   "cell_type": "markdown",
   "metadata": {
    "slideshow": {
     "slide_type": "slide"
    }
   },
   "source": [
    "# Expect, tcl, Pexpect\n",
    "\n",
    "History of expect, a tcl facility\n",
    "\n",
    "Pexpect module to provide same functionality\n",
    "\n",
    "Used by Jupyter when handling kernels"
   ]
  },
  {
   "cell_type": "markdown",
   "metadata": {
    "slideshow": {
     "slide_type": "slide"
    }
   },
   "source": [
    "# Pexpect capabilities\n",
    "\n",
    "Ability to\n",
    "- interact with a tty and simulate a user typing at a keyboard\n",
    "- detect (**expect**) patterns in the output to allow to pass back control\n",
    "\n",
    "- pexpect.spawn: a class allowing to spawn a sub-process and to control it\n",
    "  - detect patterns in the output using expect()\n",
    "  - send() input to the process\n",
    "- run: a method which allows simplified scenarios\n",
    "- replwrapper: a useful abstraction for controlling an interpreter\n",
    "- pxssh: a useful wrapper for handling a simple ssh connection\n"
   ]
  },
  {
   "cell_type": "markdown",
   "metadata": {
    "slideshow": {
     "slide_type": "slide"
    }
   },
   "source": [
    "# Pexpect examples\n",
    "\n",
    "First let's import the pexpect module, set a default timeout to use and set a default PROMPT for shell interactions."
   ]
  },
  {
   "cell_type": "code",
   "execution_count": 3,
   "metadata": {
    "collapsed": true,
    "slideshow": {
     "slide_type": "fragment"
    }
   },
   "outputs": [],
   "source": [
    "import pexpect\n",
    "\n",
    "timeout=5\n",
    "\n",
    "#PROMPT='monitoring: '\n",
    "PROMPT='\\$ '\n",
    "\n",
    "# Create a pretty printer:\n",
    "import pprint\n",
    "pp = pprint.PrettyPrinter(indent=4)"
   ]
  },
  {
   "cell_type": "markdown",
   "metadata": {
    "slideshow": {
     "slide_type": "slide"
    }
   },
   "source": [
    "```pexpect.run(command, timeout=30, withexitstatus=False, events=None, extra_args=None, logfile=None, cwd=None, env=None, **kwargs)```\n",
    "\n",
    "**run** [documentation](https://pexpect.readthedocs.org/en/stable/api/pexpect.html#run-function) returns command output as a string (or a tple with exit code if withexitstatus is True).\n",
    "\n",
    "### Optional event handling:\n",
    "- events takes a Dictionary or tpl matching events (o/p pattern matches, timeouts, Pexcept exceptions) with an appropriate action\n",
    "- extra_args are passed into event callbacks\n",
    "- event callbacks return True to stop processing events\n",
    "\n"
   ]
  },
  {
   "cell_type": "markdown",
   "metadata": {
    "slideshow": {
     "slide_type": "subslide"
    }
   },
   "source": [
    "Let's just call the run() method with a command string, specifying an encoding\n",
    "(we get more readable output than the default unencodede byte array).\n",
    "\n",
    "We are just executing a command and returning"
   ]
  },
  {
   "cell_type": "code",
   "execution_count": 4,
   "metadata": {
    "collapsed": false,
    "slideshow": {
     "slide_type": "fragment"
    }
   },
   "outputs": [
    {
     "name": "stdout",
     "output_type": "stream",
     "text": [
      "total 88\r\n",
      "drwxrwxr-x  4 ubuntu ubuntu  4096 Apr 26 17:50 .\r\n",
      "drwxr-xr-x 12 ubuntu ubuntu  4096 Apr 26 14:20 ..\r\n",
      "drwxr-xr-x  2 ubuntu ubuntu  4096 Apr 25 19:09 .ipynb_checkpoints\r\n",
      "-rw-rw-r--  1 ubuntu ubuntu   754 Apr 26 17:50 jupyter.log\r\n",
      "drwxrwxr-x  2 ubuntu ubuntu  4096 Apr 26 14:20 pexpect\r\n",
      "-rw-rw-r--  1 ubuntu ubuntu 27448 Apr 26 17:50 Pexpect Tutorial.ipynb\r\n",
      "-rw-rw-r--  1 ubuntu ubuntu 38641 Apr 26 10:59 Pexpect Tutorial.ipynb.2\r\n",
      "\n"
     ]
    }
   ],
   "source": [
    "# run() is a convenience function to run a command and recuperate it's output\n",
    "# - returns byte array, unless encoding is specified\n",
    "print(pexpect.run('ls -al', encoding='utf-8'))"
   ]
  },
  {
   "cell_type": "markdown",
   "metadata": {
    "slideshow": {
     "slide_type": "subslide"
    }
   },
   "source": [
    "Run can match events and act accordingly, first let's define some handler functions to be called\n",
    "on error, timeout or successful match.\n",
    "\n",
    "These functions will show us what is happening and what text precedes/follows any match"
   ]
  },
  {
   "cell_type": "code",
   "execution_count": 40,
   "metadata": {
    "collapsed": true,
    "slideshow": {
     "slide_type": "fragment"
    }
   },
   "outputs": [],
   "source": [
    "USER_PASSWORD='password'\n",
    "\n",
    "# Handle errors and timeouts:\n",
    "def ferr(spawnObject):\n",
    "    if spawnObject['index'] == 2:\n",
    "        print(\"ferr: TIMEOUT event seen - stop processing (return True)\")\n",
    "    elif spawnObject['index'] == 3:\n",
    "        print(\"ferr: EOF event seen (child exited) - stop processing (return True)\")\n",
    "    else:\n",
    "        print(\"ferr: ERROR event seen - stop processing (return True)\")\n",
    "    #pp.pprint(spawnObject)\n",
    "    print(\"BEFORE=<<\"+spawnObject['child'].before.strip() + \">>\")\n",
    "    return True\n",
    "\n",
    "# Handle matched prompt:\n",
    "def fprompt(spawnObject):\n",
    "    print(\"fprompt: PROMPT matched - stop processing (return True)\")\n",
    "    #pp.pprint(spawnObject)\n",
    "    print(\"BEFORE=<<\"+ ppbefore(spawnObject) + \"\\n>>\")\n",
    "    print(\"AFTER=<<\"+ ppafter(spawnObject) + \"\\n>>\")\n",
    "    return True\n"
   ]
  },
  {
   "cell_type": "markdown",
   "metadata": {
    "slideshow": {
     "slide_type": "subslide"
    }
   },
   "source": [
    "Now let's run an ssh command but with 0 seconds timeout which will obviously(hopefully!) fail with a timeout."
   ]
  },
  {
   "cell_type": "code",
   "execution_count": 10,
   "metadata": {
    "collapsed": false,
    "slideshow": {
     "slide_type": "fragment"
    }
   },
   "outputs": [
    {
     "name": "stdout",
     "output_type": "stream",
     "text": [
      "ferr: TIMEOUT event seen - stop processing (return True)\n",
      "{   'child': <pexpect.pty_spawn.spawn object at 0x7f6e440bd6d8>,\n",
      "    'child_result_list': [''],\n",
      "    'command': 'ssh user@172.17.0.2',\n",
      "    'cwd': None,\n",
      "    'env': None,\n",
      "    'event_count': 0,\n",
      "    'events': [   ('[Pp]assword:', 'password\\n'),\n",
      "                  ('\\\\$', <function fprompt at 0x7f6e440a3ea0>),\n",
      "                  (   <class 'pexpect.exceptions.TIMEOUT'>,\n",
      "                      <function ferr at 0x7f6e440ed840>),\n",
      "                  (   <class 'pexpect.exceptions.EOF'>,\n",
      "                      <function ferr at 0x7f6e440ed840>)],\n",
      "    'extra_args': None,\n",
      "    'index': 2,\n",
      "    'kwargs': {'encoding': 'utf-8'},\n",
      "    'logfile': None,\n",
      "    'patterns': [   '[Pp]assword:',\n",
      "                    '\\\\$',\n",
      "                    <class 'pexpect.exceptions.TIMEOUT'>,\n",
      "                    <class 'pexpect.exceptions.EOF'>],\n",
      "    'responses': [   'password\\n',\n",
      "                     <function fprompt at 0x7f6e440a3ea0>,\n",
      "                     <function ferr at 0x7f6e440ed840>,\n",
      "                     <function ferr at 0x7f6e440ed840>],\n",
      "    'timeout': 0,\n",
      "    'withexitstatus': False}\n",
      "BEFORE=<<>>\n",
      "\n"
     ]
    }
   ],
   "source": [
    "#\n",
    "# Very short TIMEOUT\n",
    "#\n",
    "\n",
    "op = pexpect.run('ssh user@172.17.0.2', events=[('[Pp]assword:', USER_PASSWORD+'\\n'),\\\n",
    "                                           ('\\$', fprompt), (pexpect.TIMEOUT, ferr), (pexpect.EOF, ferr)],\\\n",
    "            timeout=0, encoding='utf-8')\n",
    "print()"
   ]
  },
  {
   "cell_type": "markdown",
   "metadata": {
    "slideshow": {
     "slide_type": "subslide"
    }
   },
   "source": [
    "Now let's use a very long timeout but see what happens when we provide a bad password.\n",
    "\n",
    "Behind the scenes we get prompted multiple times for the password until the ssh server rejects us."
   ]
  },
  {
   "cell_type": "code",
   "execution_count": 12,
   "metadata": {
    "collapsed": false,
    "slideshow": {
     "slide_type": "fragment"
    }
   },
   "outputs": [
    {
     "name": "stdout",
     "output_type": "stream",
     "text": [
      "ferr: EOF event seen (child exited) - stop processing (return True)\n",
      "BEFORE=<<Permission denied (publickey,password).>>\n",
      "\n"
     ]
    }
   ],
   "source": [
    "#\n",
    "# BAD PASSWORD: keeps trying until process exists: (BEFORE TIMEOUT of 4000 secs)\n",
    "#\n",
    "\n",
    "op = pexpect.run('ssh user@172.17.0.2', events=[('[Pp]assword:', '****BAD_PASSWORD****'+'\\n'),\\\n",
    "                                           ('\\$', fprompt), (pexpect.TIMEOUT, ferr), (pexpect.EOF, ferr)],\\\n",
    "            timeout=4000, encoding='utf-8')\n",
    "print()"
   ]
  },
  {
   "cell_type": "markdown",
   "metadata": {
    "slideshow": {
     "slide_type": "subslide"
    }
   },
   "source": [
    "Let's now define some helper functions used to show text surrounding the matched text:"
   ]
  },
  {
   "cell_type": "code",
   "execution_count": 14,
   "metadata": {
    "collapsed": false,
    "slideshow": {
     "slide_type": "fragment"
    }
   },
   "outputs": [],
   "source": [
    "\n",
    "# Helper function ppbefore: to pretty-print text before the match:\n",
    "def ppbefore(object):\n",
    "    if isinstance(object, pexpect.pty_spawn.spawn):\n",
    "        pass\n",
    "    elif isinstance(object, dict):\n",
    "        object = object['child']\n",
    "    else:\n",
    "        return(\"<<UnknownType>>\")\n",
    "        \n",
    "    if hasattr(object, 'child'):\n",
    "        object = object['child']\n",
    "\n",
    "    if not hasattr(object, 'before'):\n",
    "        return \"<<None>>\"\n",
    "    if object.before == pexpect.EOF:\n",
    "        return \"<<pexpect.EOF>>\"\n",
    "    if object.before == pexpect.TIMEOUT:\n",
    "        return \"<<pexpect.TIMEOUT>>\"\n",
    "    \n",
    "    return str.join('\\n    ', object.before.strip().split('\\n') )\n",
    "\n",
    "# Helper function ppafter: to pretty-print text after the match:\n",
    "def ppafter(object):\n",
    "    if isinstance(object, pexpect.pty_spawn.spawn):\n",
    "        pass\n",
    "    elif isinstance(object, dict):\n",
    "        object = object['child']\n",
    "    else:\n",
    "        return(\"<<UnknownType>>\")\n",
    "        \n",
    "    if hasattr(object, 'child'):\n",
    "        object = object['child']\n",
    "\n",
    "    if not hasattr(object, 'after'):\n",
    "        return \"<<None>>\"\n",
    "    if object.after == pexpect.EOF:\n",
    "        return \"<<pexpect.EOF>>\"\n",
    "    if object.after == pexpect.TIMEOUT:\n",
    "        return \"<<pexpect.TIMEOUT>>\"\n",
    "\n",
    "    return str.join('\\n    ', object.after.strip().split('\\n') )\n",
    "\n",
    "#ssh_child = pexpect.spawn( \"ls -al\", timeout=timeout, encoding='utf-8')\n",
    "#ssh_child.expect(pexpect.EOF)\n",
    "#print(\"ssh_child.before=\" + ssh_child.before)\n",
    "#print(\"ppbefore(ssh_child=\" + ppbefore(ssh_child) + \")\")\n",
    "#print(\"ppafter(ssh_child=\"  + ppafter(ssh_child) + \")\")"
   ]
  },
  {
   "cell_type": "markdown",
   "metadata": {
    "collapsed": false,
    "slideshow": {
     "slide_type": "subslide"
    }
   },
   "source": [
    "Now let's perform a successful login:"
   ]
  },
  {
   "cell_type": "code",
   "execution_count": 15,
   "metadata": {
    "collapsed": false,
    "slideshow": {
     "slide_type": "fragment"
    }
   },
   "outputs": [
    {
     "name": "stdout",
     "output_type": "stream",
     "text": [
      "fprompt: PROMPT matched - stop processing (return True)\n",
      "BEFORE=<<Welcome to Ubuntu 16.04 LTS (GNU/Linux 4.4.0-21-generic x86_64)\n",
      "    \n",
      "     * Documentation:  https://help.ubuntu.com/\n",
      "    Last login: Tue Apr 26 17:49:03 2016 from 172.17.0.1\n",
      ">>\n",
      "AFTER=<<$\n",
      ">>\n",
      "\n"
     ]
    }
   ],
   "source": [
    "#\n",
    "# SUCCESSFUL login:\n",
    "#\n",
    "op = pexpect.run('ssh user@172.17.0.2', events=[('[Pp]assword:', USER_PASSWORD+'\\n'),\\\n",
    "                                                (PROMPT, fprompt),\\\n",
    "                                                (pexpect.TIMEOUT, ferr),\\\n",
    "                                                (pexpect.EOF, ferr)],\\\n",
    "                 timeout=4, encoding='utf-8')\n",
    "print()"
   ]
  },
  {
   "cell_type": "markdown",
   "metadata": {
    "slideshow": {
     "slide_type": "slide"
    }
   },
   "source": [
    "# pexpect.spawn class\n",
    "\n",
    "Now let's look at the spawn class\n",
    "\n",
    "```class pexpect.spawn(command, args=[], timeout=30, maxread=2000, searchwindowsize=None, logfile=None, cwd=None, env=None, ignore_sighup=False, echo=True, preexec_fn=None, encoding=None, codec_errors='strict', dimensions=None)```\n",
    "\n",
    "*class* **spawn** [documentation](https://pexpect.readthedocs.org/en/stable/api/pexpect.html#spawn-classy)\n",
    "\n",
    "Spawns a sub-process which we can control, returns a spawn instance.\n",
    "We can\n",
    "- detect patterns on the process output with *expect()*\n",
    "- control the sub-process by sending to its' input with *send()*.\n",
    "\n",
    "\n",
    "\n"
   ]
  },
  {
   "cell_type": "markdown",
   "metadata": {
    "slideshow": {
     "slide_type": "subslide"
    }
   },
   "source": [
    "The spawn class constructor returns us an instance of a spawned process to which we can send further input.\n",
    "\n",
    "(this is used under the hood in the run() method we saw earlier)\n",
    "\n",
    "Now when we perform operations we can match output in an imperative way.\n",
    "\n",
    "Let's launch a process, and run it to completion by waiting on the EOF token."
   ]
  },
  {
   "cell_type": "code",
   "execution_count": 16,
   "metadata": {
    "collapsed": false,
    "slideshow": {
     "slide_type": "fragment"
    }
   },
   "outputs": [
    {
     "name": "stdout",
     "output_type": "stream",
     "text": [
      "BEFORE=<<total 96\r\n",
      "    drwxrwxr-x  4 ubuntu ubuntu  4096 Apr 26 17:58 .\r\n",
      "    drwxr-xr-x 12 ubuntu ubuntu  4096 Apr 26 14:20 ..\r\n",
      "    drwxr-xr-x  2 ubuntu ubuntu  4096 Apr 25 19:09 .ipynb_checkpoints\r\n",
      "    -rw-rw-r--  1 ubuntu ubuntu  1026 Apr 26 17:58 jupyter.log\r\n",
      "    drwxrwxr-x  2 ubuntu ubuntu  4096 Apr 26 14:20 pexpect\r\n",
      "    -rw-rw-r--  1 ubuntu ubuntu 33172 Apr 26 17:58 Pexpect Tutorial.ipynb\r\n",
      "    -rw-rw-r--  1 ubuntu ubuntu 38641 Apr 26 10:59 Pexpect Tutorial.ipynb.2\n",
      ">> ----\n",
      "AFTER=<<<<pexpect.EOF>>\n",
      ">> ----\n"
     ]
    }
   ],
   "source": [
    "ssh_child = pexpect.spawn( \"ls -al\", timeout=timeout, encoding='utf-8')\n",
    "ssh_child.expect(pexpect.EOF)\n",
    "print(\"BEFORE=<<\"+ ppbefore(ssh_child) + \"\\n>> ----\")\n",
    "print(\"AFTER=<<\" + ppafter(ssh_child)  + \"\\n>> ----\")\n",
    "#dir(ssh_child)"
   ]
  },
  {
   "cell_type": "markdown",
   "metadata": {
    "slideshow": {
     "slide_type": "subslide"
    }
   },
   "source": [
    "Now let's run the same ls command, but stop as soon as we see the '..' parent dir characters"
   ]
  },
  {
   "cell_type": "code",
   "execution_count": 17,
   "metadata": {
    "collapsed": false,
    "slideshow": {
     "slide_type": "fragment"
    }
   },
   "outputs": [
    {
     "name": "stdout",
     "output_type": "stream",
     "text": [
      "BEFORE=<<total 96\r\n",
      "    drwxrwxr-x  4 ubuntu ubuntu  4096 Apr 26 17:58 .\r\n",
      "    drwxr-xr-x 12 ubuntu ubuntu  4096 Apr 26 14:20\n",
      ">> ----\n"
     ]
    }
   ],
   "source": [
    "ssh_child = pexpect.spawn( \"ls -al\", timeout=timeout, encoding='utf-8')\n",
    "ssh_child.expect('\\.\\.')\n",
    "print(\"BEFORE=<<\"+ ppbefore(ssh_child) + \"\\n>> ----\")"
   ]
  },
  {
   "cell_type": "markdown",
   "metadata": {
    "slideshow": {
     "slide_type": "subslide"
    }
   },
   "source": [
    "Let's see how we can provide a list of possible matches, including EOF and TIMEOUT special cases.\n",
    "\n",
    "The call to expect() blocks until it gets a match.\n",
    "\n",
    "It returns an index to the matching element of our list.\n",
    "\n",
    "In the following example we provide '.' and '..' match patterns, the first will match first."
   ]
  },
  {
   "cell_type": "code",
   "execution_count": 18,
   "metadata": {
    "collapsed": false,
    "slideshow": {
     "slide_type": "fragment"
    }
   },
   "outputs": [
    {
     "name": "stdout",
     "output_type": "stream",
     "text": [
      "index=0\n",
      "BEFORE=<<total 96\r\n",
      "    drwxrwxr-x  4 ubuntu ubuntu  4096 Apr 26 18:00\n",
      ">> ----\n",
      "Matched on <<<_sre.SRE_Match object; span=(57, 58), match='.'>>>\n",
      "AFTER=<<.\n",
      ">> ----\n"
     ]
    }
   ],
   "source": [
    "ssh_child = pexpect.spawn( \"ls -al\", timeout=timeout, encoding='utf-8')\n",
    "idx = ssh_child.expect(['\\.','\\.\\.',pexpect.EOF,pexpect.TIMEOUT])\n",
    "print(\"index=\" + str(idx))\n",
    "print(\"BEFORE=<<\"+ ppbefore(ssh_child) + \"\\n>> ----\")\n",
    "print(\"Matched on <<\" + str( ssh_child.match ) + \">>\")\n",
    "print(\"AFTER=<<\"+ ppafter(ssh_child) + \"\\n>> ----\")"
   ]
  },
  {
   "cell_type": "markdown",
   "metadata": {
    "slideshow": {
     "slide_type": "subslide"
    }
   },
   "source": [
    "Let's perform a similar match query which cannot match.\n",
    "\n",
    "We see that expect() returns a EOF as the 'ls' command completed but we didn't match either of the 2 strings before\n",
    "matching the EOF."
   ]
  },
  {
   "cell_type": "code",
   "execution_count": 19,
   "metadata": {
    "collapsed": false,
    "slideshow": {
     "slide_type": "fragment"
    }
   },
   "outputs": [
    {
     "name": "stdout",
     "output_type": "stream",
     "text": [
      "index=2\n",
      "BEFORE=<<total 96\r\n",
      "    drwxrwxr-x  4 ubuntu ubuntu  4096 Apr 26 18:00 .\r\n",
      "    drwxr-xr-x 12 ubuntu ubuntu  4096 Apr 26 14:20 ..\r\n",
      "    drwxr-xr-x  2 ubuntu ubuntu  4096 Apr 25 19:09 .ipynb_checkpoints\r\n",
      "    -rw-rw-r--  1 ubuntu ubuntu  1094 Apr 26 18:00 jupyter.log\r\n",
      "    drwxrwxr-x  2 ubuntu ubuntu  4096 Apr 26 14:20 pexpect\r\n",
      "    -rw-rw-r--  1 ubuntu ubuntu 34168 Apr 26 18:00 Pexpect Tutorial.ipynb\r\n",
      "    -rw-rw-r--  1 ubuntu ubuntu 38641 Apr 26 10:59 Pexpect Tutorial.ipynb.2\n",
      ">> ----\n",
      "Matched on <<<class 'pexpect.exceptions.EOF'>>>\n",
      "AFTER=<<<<pexpect.EOF>>\n",
      ">> ----\n"
     ]
    }
   ],
   "source": [
    "ssh_child = pexpect.spawn( \"ls -al\", timeout=timeout, encoding='utf-8')\n",
    "idx = ssh_child.expect(['NOTSEEN','EITHER',pexpect.EOF,pexpect.TIMEOUT])\n",
    "print(\"index=\" + str(idx))\n",
    "print(\"BEFORE=<<\"+ ppbefore(ssh_child) + \"\\n>> ----\")\n",
    "print(\"Matched on <<\" + str( ssh_child.match ) + \">>\")\n",
    "print(\"AFTER=<<\"+ ppafter(ssh_child) + \"\\n>> ----\")"
   ]
  },
  {
   "cell_type": "markdown",
   "metadata": {
    "slideshow": {
     "slide_type": "subslide"
    }
   },
   "source": [
    "Now let's do the same query whilst forcing a timeout"
   ]
  },
  {
   "cell_type": "code",
   "execution_count": 20,
   "metadata": {
    "collapsed": false,
    "slideshow": {
     "slide_type": "fragment"
    }
   },
   "outputs": [
    {
     "name": "stdout",
     "output_type": "stream",
     "text": [
      "index=3\n",
      "BEFORE=<<total 96\r\n",
      "    drwxrwxr-x  4 ubuntu ubuntu  4096 Apr 26 18:00 .\r\n",
      "    drwxr-xr-x 12 ubuntu ubuntu  4096 Apr 26 14:20 ..\r\n",
      "    drwxr-xr-x  2 ubuntu ubuntu  4096 Apr 25 19:09 .ipynb_checkpoints\r\n",
      "    -rw-rw-r--  1 ubuntu ubuntu  1094 Apr 26 18:00 jupyter.log\r\n",
      "    drwxrwxr-x  2 ubuntu ubuntu  4096 Apr 26 14:20 pexpect\r\n",
      "    -rw-rw-r--  1 ubuntu ubuntu 34168 Apr 26 18:00 Pexpect Tutorial.ipynb\r\n",
      "    -rw-rw-r--  1 ubuntu ubuntu 38641 Apr 26 10:59 Pexpect Tutorial.ipynb.2\n",
      ">> ----\n",
      "Matched on <<<class 'pexpect.exceptions.TIMEOUT'>>>\n",
      "AFTER=<<<<pexpect.TIMEOUT>>\n",
      ">> ----\n"
     ]
    }
   ],
   "source": [
    "ssh_child = pexpect.spawn( \"ls -al\", timeout=0, encoding='utf-8')\n",
    "idx = ssh_child.expect(['NOTSEEN','EITHER',pexpect.EOF,pexpect.TIMEOUT])\n",
    "print(\"index=\" + str(idx))\n",
    "print(\"BEFORE=<<\"+ ppbefore(ssh_child) + \"\\n>> ----\")\n",
    "print(\"Matched on <<\" + str( ssh_child.match ) + \">>\")\n",
    "print(\"AFTER=<<\"+ ppafter(ssh_child) + \"\\n>> ----\")"
   ]
  },
  {
   "cell_type": "markdown",
   "metadata": {
    "slideshow": {
     "slide_type": "subslide"
    }
   },
   "source": [
    "These were still very simple examples.  In use we want to spawn a process and then interact with it, using expect() to detect the process state and then send() or sendline() to send input to the process (such as commands to a shell)"
   ]
  },
  {
   "cell_type": "code",
   "execution_count": 41,
   "metadata": {
    "collapsed": true,
    "slideshow": {
     "slide_type": "fragment"
    }
   },
   "outputs": [],
   "source": [
    "ssh_child = pexpect.spawn( \"bash\", timeout=timeout, encoding='utf-8')"
   ]
  },
  {
   "cell_type": "code",
   "execution_count": 43,
   "metadata": {
    "collapsed": false,
    "slideshow": {
     "slide_type": "fragment"
    }
   },
   "outputs": [
    {
     "data": {
      "text/plain": [
       "6"
      ]
     },
     "execution_count": 43,
     "metadata": {},
     "output_type": "execute_result"
    }
   ],
   "source": [
    "# send() returns number of characters sent:\n",
    "ssh_child.send(\"ls -al\")\n",
    "#print(\"BEFORE=<<\"+ ppbefore(ssh_child) + \"\\n>> ----\")"
   ]
  },
  {
   "cell_type": "code",
   "execution_count": 44,
   "metadata": {
    "collapsed": false,
    "slideshow": {
     "slide_type": "fragment"
    }
   },
   "outputs": [
    {
     "data": {
      "text/plain": [
       "0"
      ]
     },
     "execution_count": 44,
     "metadata": {},
     "output_type": "execute_result"
    }
   ],
   "source": [
    "ssh_child.expect(PROMPT, timeout=timeout)"
   ]
  },
  {
   "cell_type": "code",
   "execution_count": 45,
   "metadata": {
    "collapsed": false,
    "slideshow": {
     "slide_type": "fragment"
    }
   },
   "outputs": [
    {
     "name": "stdout",
     "output_type": "stream",
     "text": [
      "BEFORE=<<\u001b]0;ubuntu@ubuntu-xenial: ~/notebooks\u0007\u001b[01;32mubuntu@ubuntu-xenial\u001b[00m:\u001b[01;34m~/notebooks\u001b[00m\n",
      ">> ----\n",
      "Matched on <<<_sre.SRE_Match object; span=(96, 98), match='$ '>>>\n",
      "AFTER=<<$\n",
      ">> ----\n"
     ]
    }
   ],
   "source": [
    "print(\"BEFORE=<<\"+ ppbefore(ssh_child) + \"\\n>> ----\")\n",
    "print(\"Matched on <<\" + str( ssh_child.match ) + \">>\")\n",
    "print(\"AFTER=<<\"+ ppafter(ssh_child) + \"\\n>> ----\")"
   ]
  },
  {
   "cell_type": "markdown",
   "metadata": {
    "slideshow": {
     "slide_type": "subslide"
    }
   },
   "source": [
    "Now let's inspect the 'ssh_child' which is spawn object:"
   ]
  },
  {
   "cell_type": "code",
   "execution_count": 46,
   "metadata": {
    "collapsed": false,
    "slideshow": {
     "slide_type": "fragment"
    }
   },
   "outputs": [
    {
     "name": "stdout",
     "output_type": "stream",
     "text": [
      "<pexpect.pty_spawn.spawn object at 0x7f6e440beeb8>\n",
      "command: /bin/bash\n",
      "args: ['/bin/bash']\n",
      "searcher: None\n",
      "buffer (last 100 chars): 'ls -alls -al'\n",
      "before (last 100 chars): '\\x1b]0;ubuntu@ubuntu-xenial: ~/notebooks\\x07\\x1b[01;32mubuntu@ubuntu-xenial\\x1b[00m:\\x1b[01;34m~/notebooks\\x1b[00m'\n",
      "after: '$ '\n",
      "match: <_sre.SRE_Match object; span=(96, 98), match='$ '>\n",
      "match_index: 0\n",
      "exitstatus: None\n",
      "flag_eof: False\n",
      "pid: 3768\n",
      "child_fd: 53\n",
      "closed: False\n",
      "timeout: 5\n",
      "delimiter: <class 'pexpect.exceptions.EOF'>\n",
      "logfile: None\n",
      "logfile_read: None\n",
      "logfile_send: None\n",
      "maxread: 2000\n",
      "ignorecase: False\n",
      "searchwindowsize: None\n",
      "delaybeforesend: 0.05\n",
      "delayafterclose: 0.1\n",
      "delayafterterminate: 0.1\n"
     ]
    }
   ],
   "source": [
    "print(ssh_child)"
   ]
  },
  {
   "cell_type": "markdown",
   "metadata": {
    "slideshow": {
     "slide_type": "slide"
    }
   },
   "source": [
    "# pexepct.REPLWrapper()\n",
    "\n",
    "```class pexpect.replwrap.REPLWrapper(cmd_or_spawn, orig_prompt, prompt_change, new_prompt='[PEXPECT_PROMPT>', continuation_prompt='[PEXPECT_PROMPT+', extra_init_cmd=None)[source]\n",
    "```\n",
    "\n",
    "The following example shows how the replwrap wrapper can be used to wrap around a sub-process and send commands which will be correctly handled as the wrapper handles detection of the prompt.\n",
    "\n",
    "We launch the Python interpreter as a sub-process and send commands to it."
   ]
  },
  {
   "cell_type": "code",
   "execution_count": 33,
   "metadata": {
    "collapsed": false,
    "slideshow": {
     "slide_type": "subslide"
    }
   },
   "outputs": [
    {
     "name": "stdout",
     "output_type": "stream",
     "text": [
      "11\r\n",
      "\n",
      "hello\r\n",
      "\n"
     ]
    }
   ],
   "source": [
    "import pexpect.replwrap\n",
    "\n",
    "#py = pexpect.replwrap.REPLWrapper(\"python\", \">>> \", \"import sys; sys.ps1={!r}; sys.ps2={!r}\")\n",
    "\n",
    "py = pexpect.replwrap.REPLWrapper(\"python\", \">>> \", None)\n",
    "print ( py.run_command(\"4+7\") )\n",
    "print ( py.run_command(\"print('hello')\") )\n"
   ]
  },
  {
   "cell_type": "markdown",
   "metadata": {
    "slideshow": {
     "slide_type": "slide"
    }
   },
   "source": [
    "# Pexpect.pxssh()\n",
    "\n",
    "```class pexpect.pxssh.pxssh(timeout=30, maxread=2000, searchwindowsize=None, logfile=None, cwd=None, env=None, ignore_sighup=True, echo=True, options={}, encoding=None, codec_errors='strict')\n",
    "```\n",
    "\n",
    "pxssh provides a useful wrapper for handling a simple ssh connection"
   ]
  },
  {
   "cell_type": "code",
   "execution_count": 53,
   "metadata": {
    "collapsed": false,
    "slideshow": {
     "slide_type": "subslide"
    }
   },
   "outputs": [
    {
     "name": "stdout",
     "output_type": "stream",
     "text": [
      "uptime\n",
      " 20:50:49 up  2:33,  1 user,  load average: 0.15, 0.06, 0.06\n",
      "\n",
      "ls -l\n",
      "total 0\n",
      "\n",
      "df\n",
      "Filesystem     1K-blocks    Used Available Use% Mounted on\n",
      "none            10098468 3767584   6314500  38% /\n",
      "tmpfs             508100       0    508100   0% /dev\n",
      "tmpfs             508100       0    508100   0% /sys/fs/cgroup\n",
      "/dev/sda1       10098468 3767584   6314500  38% /etc/hosts\n",
      "shm                65536       0     65536   0% /dev/shm\n",
      "\n"
     ]
    }
   ],
   "source": [
    "import pexpect.pxssh\n",
    "import getpass\n",
    "try:\n",
    "    s = pexpect.pxssh.pxssh(encoding='utf-8')\n",
    "    hostname = '172.17.0.2'\n",
    "    username = 'user'\n",
    "    password = 'password'\n",
    "    s.login(hostname, username, password)\n",
    "    s.sendline('uptime')   # run a command\n",
    "    s.prompt()             # match the prompt\n",
    "    print(s.before)        # print everything before the prompt.\n",
    "    s.sendline('ls -l')\n",
    "    s.prompt()\n",
    "    print(s.before)\n",
    "    s.sendline('df')\n",
    "    s.prompt()\n",
    "    print(s.before)\n",
    "    s.logout()\n",
    "except pxssh.ExceptionPxssh as e:\n",
    "    print(\"pxssh failed on login.\")\n",
    "    print(e)"
   ]
  },
  {
   "cell_type": "markdown",
   "metadata": {
    "slideshow": {
     "slide_type": "slide"
    }
   },
   "source": [
    "# Pexpect demos\n",
    "  - One off password login (already seen)\n",
    "  - Multi-hop ssh key setup\n",
    "  - Switch config: login, navigation, paging"
   ]
  },
  {
   "cell_type": "markdown",
   "metadata": {},
   "source": [
    "# Pexpect demos\n",
    "##  Multi-hop ssh key setup"
   ]
  },
  {
   "cell_type": "code",
   "execution_count": 34,
   "metadata": {
    "collapsed": false
   },
   "outputs": [
    {
     "name": "stdout",
     "output_type": "stream",
     "text": [
      "ssh  -l user 172.17.0.2\n",
      "To run a command as administrator (user \"root\"), use \"sudo <command>\".\n",
      "See \"man sudo_root\" for details.\n",
      "\n",
      "ssh  -l user 172.17.0.2\n",
      "ubuntu@ubuntu-xenial:/home/ubuntu/notebooks$ ssh  -l user 172.17.0.2\n",
      "user@172.17.0.2's password: password\n",
      "\n",
      "Welcome to Ubuntu 16.04 LTS (GNU/Linux 4.4.0-21-generic x86_64)\n",
      "\n",
      " * Documentation:  https://help.ubuntu.com/\n",
      "Last login: Tue Apr 26 17:57:54 2016 from 172.17.0.1\n",
      "$ echo \"HOSTNAME=$(hostname)\"\n",
      "echo \"HOSTNAME=$(hostname)\"\n",
      "HOSTNAME=container1\n",
      "$ "
     ]
    }
   ],
   "source": [
    "!~/bin/mhop_ssh.py -d     -h 172.17.0.2 -u user -p password       --PROMPT '\\$ ' -to 3 -c 'echo \"HOSTNAME=$(hostname)\"'"
   ]
  },
  {
   "cell_type": "code",
   "execution_count": 35,
   "metadata": {
    "collapsed": false
   },
   "outputs": [
    {
     "name": "stdout",
     "output_type": "stream",
     "text": [
      "ssh  -l user 172.17.0.2\n",
      "To run a command as administrator (user \"root\"), use \"sudo <command>\".\n",
      "See \"man sudo_root\" for details.\n",
      "\n",
      "ssh  -l user 172.17.0.2ubuntu@ubuntu-xenial:/home/ubuntu/notebooks$ ssh  -l user 172.17.0.2\n",
      "user@172.17.0.2's password: password\n",
      "\n",
      "Welcome to Ubuntu 16.04 LTS (GNU/Linux 4.4.0-21-generic x86_64)\n",
      "\n",
      " * Documentation:  https://help.ubuntu.com/\n",
      "Last login: Tue Apr 26 18:10:46 2016 from 172.17.0.1\n",
      "$ echo \"HOSTNAME=$(hostname)\"\n",
      "echo \"HOSTNAME=$(hostname)\"\n",
      "HOSTNAME=container1\n",
      "$ "
     ]
    }
   ],
   "source": [
    "MH=\"~/bin/mhop_ssh.py\"\n",
    "HOST1=\"-h 172.17.0.2 -u user -p password --PROMPT '\\$ ' -to 3\"\n",
    "CMD='echo \"HOSTNAME=$(hostname)\"'\n",
    "\n",
    "!$MH -d $HOST1 -c '$CMD'"
   ]
  },
  {
   "cell_type": "code",
   "execution_count": 36,
   "metadata": {
    "collapsed": false
   },
   "outputs": [
    {
     "name": "stdout",
     "output_type": "stream",
     "text": [
      "ssh  -l user 172.17.0.2\n",
      "To run a command as administrator (user \"root\"), use \"sudo <command>\".\n",
      "See \"man sudo_root\" for details.\n",
      "\n",
      "ssh  -l user 172.17.0.2ubuntu@ubuntu-xenial:/home/ubuntu/notebooks$ ssh  -l user 172.17.0.2\n",
      "user@172.17.0.2's password: password\n",
      "\n",
      "Welcome to Ubuntu 16.04 LTS (GNU/Linux 4.4.0-21-generic x86_64)\n",
      "\n",
      " * Documentation:  https://help.ubuntu.com/\n",
      "Last login: Tue Apr 26 18:11:14 2016 from 172.17.0.1\n",
      "$ echo \"USER=$USER HOSTNAME=$(hostname)\"\n",
      "echo \"USER=$USER HOSTNAME=$(hostname)\"\n",
      "USER=user HOSTNAME=container1\n",
      "$ ssh  -l user 172.17.0.3\n",
      "ssh  -l user 172.17.0.3\n",
      "The authenticity of host '172.17.0.3 (172.17.0.3)' can't be established.\n",
      "ECDSA key fingerprint is SHA256:IACNeco28miw3ncf888cWd9caRCBoPrKjsQQtp4NdqU.\n",
      "Are you sure you want to continue connecting (yes/no)? yes\n",
      "yes\n",
      "Warning: Permanently added '172.17.0.3' (ECDSA) to the list of known hosts.\n",
      "user@172.17.0.3's password: password\n",
      "password^J\n",
      "Welcome to Ubuntu 16.04 LTS (GNU/Linux 4.4.0-21-generic x86_64)\n",
      "\n",
      " * Documentation:  https://help.ubuntu.com/\n",
      "\n",
      "The programs included with the Ubuntu system are free software;\n",
      "the exact distribution terms for each program are described in the\n",
      "individual files in /usr/share/doc/*/copyright.\n",
      "\n",
      "Ubuntu comes with ABSOLUTELY NO WARRANTY, to the extent permitted by\n",
      "applicable law.\n",
      "\n",
      "$ echo \"USER=$USER HOSTNAME=$(hostname)\"\n",
      "echo \"USER=$USER HOSTNAME=$(hostname)\"^Jecho \"USER=$USER HOSTNAME=$(hostname)\"\n",
      "USER=user HOSTNAME=container2\n",
      "$ ssh  -l user 172.17.0.4\n",
      "ssh  -l user 172.17.0.4^Jssh  -l user 172.17.0.4\n",
      "The authenticity of host '172.17.0.4 (172.17.0.4)' can't be established.\n",
      "ECDSA key fingerprint is SHA256:IACNeco28miw3ncf888cWd9caRCBoPrKjsQQtp4NdqU.\n",
      "Are you sure you want to continue connecting (yes/no)? yes\n",
      "yes^Jyes\n",
      "Warning: Permanently added '172.17.0.4' (ECDSA) to the list of known hosts.\n",
      "user@172.17.0.4's password: password\n",
      "\n",
      "Welcome to Ubuntu 16.04 LTS (GNU/Linux 4.4.0-21-generic x86_64)\n",
      "\n",
      " * Documentation:  https://help.ubuntu.com/\n",
      "\n",
      "The programs included with the Ubuntu system are free software;\n",
      "the exact distribution terms for each program are described in the\n",
      "individual files in /usr/share/doc/*/copyright.\n",
      "\n",
      "Ubuntu comes with ABSOLUTELY NO WARRANTY, to the extent permitted by\n",
      "applicable law.\n",
      "\n",
      "$ echo \"USER=$USER HOSTNAME=$(hostname)\"\n",
      "echo \"USER=$USER HOSTNAME=$(hostname)\"^Jecho \"USER=$USER HOSTNAME=$(hostname)\"\n",
      "USER=user HOSTNAME=container3\n",
      "$ "
     ]
    }
   ],
   "source": [
    "MH=\"~/bin/mhop_ssh.py\"\n",
    "HOST1=\"-h 172.17.0.2 -u user -p password --PROMPT '\\$ ' -to 3\"\n",
    "HOST2=\"-h 172.17.0.3 -u user -p password --PROMPT '\\$ ' -to 3\"\n",
    "HOST3=\"-h 172.17.0.4 -u user -p password --PROMPT '\\$ ' -to 3\"\n",
    "CMD='echo \"USER=$USER HOSTNAME=$(hostname)\"'\n",
    "\n",
    "!$MH -d $HOST1 -c '$CMD' $HOST2 -c '$CMD' $HOST3 -c '$CMD'"
   ]
  },
  {
   "cell_type": "code",
   "execution_count": 38,
   "metadata": {
    "collapsed": false
   },
   "outputs": [
    {
     "name": "stdout",
     "output_type": "stream",
     "text": [
      "ssh  -l user 172.17.0.2\n",
      "To run a command as administrator (user \"root\"), use \"sudo <command>\".\n",
      "See \"man sudo_root\" for details.\n",
      "\n",
      "ssh  -l user 172.17.0.2ubuntu@ubuntu-xenial:/home/ubuntu/notebooks$ ssh  -l user 172.17.0.2\n",
      "user@172.17.0.2's password: password\n",
      "\n",
      "Welcome to Ubuntu 16.04 LTS (GNU/Linux 4.4.0-21-generic x86_64)\n",
      "\n",
      " * Documentation:  https://help.ubuntu.com/\n",
      "Last login: Tue Apr 26 18:17:45 2016 from 172.17.0.1\n",
      "$ echo \"USER=$USER HOSTNAME=$(hostname)\"\n",
      "echo \"USER=$USER HOSTNAME=$(hostname)\"\n",
      "USER=user HOSTNAME=container1\n",
      "$ sudo -i\n",
      "sudo -i\n",
      "[sudo] password for user: password\n",
      "\n",
      "root@container1:~# echo \"USER=$USER HOSTNAME=$(hostname)\"\n",
      "echo \"USER=$USER HOSTNAME=$(hostname)\"^Jecho \"USER=$USER HOSTNAME=$(hostname)\"\n",
      "USER=root HOSTNAME=container1\n",
      "root@container1:~# ssh  -l user 172.17.0.3\n",
      "ssh  -l user 172.17.0.3^Jssh  -l user 172.17.0.3\n",
      "The authenticity of host '172.17.0.3 (172.17.0.3)' can't be established.\n",
      "ECDSA key fingerprint is SHA256:IACNeco28miw3ncf888cWd9caRCBoPrKjsQQtp4NdqU.\n",
      "Are you sure you want to continue connecting (yes/no)? yes\n",
      "yes^Jyes\n",
      "Warning: Permanently added '172.17.0.3' (ECDSA) to the list of known hosts.\n",
      "user@172.17.0.3's password: password\n",
      "\n",
      "Welcome to Ubuntu 16.04 LTS (GNU/Linux 4.4.0-21-generic x86_64)\n",
      "\n",
      " * Documentation:  https://help.ubuntu.com/\n",
      "Last login: Tue Apr 26 18:17:19 2016 from 172.17.0.1\n",
      "$ echo \"USER=$USER HOSTNAME=$(hostname)\"\n",
      "echo \"USER=$USER HOSTNAME=$(hostname)\"^Jecho \"USER=$USER HOSTNAME=$(hostname)\"\n",
      "USER=user HOSTNAME=container2\n",
      "$ sudo -i\n",
      "sudo -i^Jsudo -i\n",
      "[sudo] password for user: password\n",
      "\n",
      "root@container2:~# echo \"USER=$USER HOSTNAME=$(hostname)\"\n",
      "echo \"USER=$USER HOSTNAME=$(hostname)\"^Jecho \"USER=$USER HOSTNAME=$(hostname)\"\n",
      "USER=root HOSTNAME=container2\n",
      "root@container2:~# ssh  -l user 172.17.0.4\n",
      "ssh  -l user 172.17.0.4^Jssh  -l user 172.17.0.4\n",
      "The authenticity of host '172.17.0.4 (172.17.0.4)' can't be established.\n",
      "ECDSA key fingerprint is SHA256:IACNeco28miw3ncf888cWd9caRCBoPrKjsQQtp4NdqU.\n",
      "Are you sure you want to continue connecting (yes/no)? yes\n",
      "yes^Jyes\n",
      "Warning: Permanently added '172.17.0.4' (ECDSA) to the list of known hosts.\n",
      "user@172.17.0.4's password: password\n",
      "password^J\n",
      "Welcome to Ubuntu 16.04 LTS (GNU/Linux 4.4.0-21-generic x86_64)\n",
      "\n",
      " * Documentation:  https://help.ubuntu.com/\n",
      "Last login: Tue Apr 26 18:17:32 2016 from 172.17.0.1\n",
      "$ echo \"USER=$USER HOSTNAME=$(hostname)\"\n",
      "echo \"USER=$USER HOSTNAME=$(hostname)\"^Jecho \"USER=$USER HOSTNAME=$(hostname)\"\n",
      "USER=user HOSTNAME=container3\n",
      "$ sudo -i\n",
      "sudo -i^Jsudo -i\n",
      "[sudo] password for user: password\n",
      "password^J\n",
      "root@container3:~# echo \"USER=$USER HOSTNAME=$(hostname)\"\n",
      "echo \"USER=$USER HOSTNAME=$(hostname)\"^Jecho \"USER=$USER HOSTNAME=$(hostname)\"\n",
      "USER=root HOSTNAME=container3\n",
      "root@container3:~# "
     ]
    }
   ],
   "source": [
    "MH=\"~/bin/mhop_ssh.py\"\n",
    "HOST1=\"-h 172.17.0.2 -u user -p password --PROMPT '\\$ ' -to 3 -root-match-prompt '#SPACE'\"\n",
    "HOST2=\"-h 172.17.0.3 -u user -p password --PROMPT '\\$ ' -to 3\"\n",
    "HOST3=\"-h 172.17.0.4 -u user -p password --PROMPT '\\$ ' -to 3\"\n",
    "CMD='echo \"USER=$USER HOSTNAME=$(hostname)\"'\n",
    "\n",
    "!echo $MH -d $HOST1 -c '$CMD' -C SUDO -c '$CMD' $HOST2 -c '$CMD' $HOST3 -c '$CMD'\n",
    "!$MH -d $HOST1 -c '$CMD' -C SUDO -c '$CMD' $HOST2 -c '$CMD' -C SUDO -c '$CMD' $HOST3 -c '$CMD' -C SUDO -c '$CMD' "
   ]
  },
  {
   "cell_type": "code",
   "execution_count": 39,
   "metadata": {
    "collapsed": false
   },
   "outputs": [
    {
     "name": "stdout",
     "output_type": "stream",
     "text": [
      "/home/ubuntu/bin/mhop_ssh.py -d -h 172.17.0.2 -u user -p password --PROMPT \\$  -to 3 -root-match-prompt #SPACE -C INSTALL_KEY /home/ubuntu/.ssh/id_rsa -C SUDO -C INSTALL_KEY /home/ubuntu/.ssh/id_rsa -h 172.17.0.3 -u user -p password --PROMPT \\$  -to 3 -C INSTALL_KEY /home/ubuntu/.ssh/id_rsa -C SUDO -C INSTALL_KEY /home/ubuntu/.ssh/id_rsa -h 172.17.0.4 -u user -p password --PROMPT \\$  -to 3 -C INSTALL_KEY /home/ubuntu/.ssh/id_rsa -C SUDO -C INSTALL_KEY /home/ubuntu/.ssh/id_rsa\n",
      "ssh  -l user 172.17.0.2\n",
      "To run a command as administrator (user \"root\"), use \"sudo <command>\".\n",
      "See \"man sudo_root\" for details.\n",
      "\n",
      "ssh  -l user 172.17.0.2ubuntu@ubuntu-xenial:/home/ubuntu/notebooks$ ssh  -l user 172.17.0.2\n",
      "user@172.17.0.2's password: password\n",
      "\n",
      "Welcome to Ubuntu 16.04 LTS (GNU/Linux 4.4.0-21-generic x86_64)\n",
      "\n",
      " * Documentation:  https://help.ubuntu.com/\n",
      "Last login: Tue Apr 26 18:21:42 2016 from 172.17.0.1\n",
      "$ echo ${USER}@$(hostname); ls -altr .ssh; [ ! -d .ssh ] && { echo \"Creating dir .ssh\"; mkdir .ssh; }; grep -q \"ssh-rsa AAAAB3NzaC1yc2EAAAADAQABAAABAQDKrUEty+kY1B6M1K/7xvWAJIIi3s50Q7ltvXgbz3bJDu/2laSO7FL+/oxB/fzdV4KTNh9VS8ZYhFgISdgo1OAVKCeoIO30Z/dO4jXpbT1ZeXSEXyVCp+zwiJZ+j8O5rxFJxgjDxpa1S90QYocOiAz7HSq1C/KP3ekVTrgHYdgNxamiQpaWmEqTMfI7hDN42enpQKMtV8CWTfy+j7Bny8vnIQwm+MU2TGhvWIz2r3o/V/iFNjGuHrMqE2MiCmKiWy1gwjk/ClW+/zAfxC+IKVEeRY+6X1wuunXesN4cTst40QKjIjYofr7taNUHYpsbiFdzLvET0LxwBd2QMzdnDET/ ubuntu@ubuntu-xenial\" .ssh/authorized_keys || { echo \"Adding key\"; echo \"ssh-rsa AAAAB3NzaC1yc2EAAAADAQABAAABAQDKrUEty+kY1B6M1K/7xvWAJIIi3s50Q7ltvXgbz3bJDu/2laSO7FL+/oxB/fzdV4KTNh9VS8ZYhFgISdgo1OAVKCeoIO30Z/dO4jXpbT1ZeXSEXyVCp+zwiJZ+j8O5rxFJxgjDxpa1S90QYocOiAz7HSq1C/KP3ekVTrgHYdgNxamiQpaWmEqTMfI7hDN42enpQKMtV8CWTfy+j7Bny8vnIQwm+MU2TGhvWIz2r3o/V/iFNjGuHrMqE2MiCmKiWy1gwjk/ClW+/zAfxC+IKVEeRY+6X1wuunXesN4cTst40QKjIjYofr7taNUHYpsbiFdzLvET0LxwBd2QMzdnDET/ ubuntu@ubuntu-xenial\" >> .ssh/authorized_keys; }; ls -al .ssh/; wc .ssh/authorized_keys\n",
      "echo ${USER}@$(hostname); ls -altr .ssh; [ ! -d .ssh ] && { echo \"Creating dir .ssh\"; mkdir .ssh; }; grep -q \"ssh-rsa AAAAB3NzaC1yc2EAAAADAQABAAABAQDKrUEty+kY1B6M1K/7xvWAJIIi3s50Q7ltvXgbz3bJDu/2laSO7FL+/oxB/fzdV4KTNh9VS8ZYhFgISdgo1OAVKCeoIO30Z/dO4jXpbT1ZeXSEXyVCp+zwiJZ+j8O5rxFJxgjDxpa1S90QYocOiAz7HSq1C/KP3ekVTrgHYdgNxamiQpaWmEqTMfI7hDN42enpQKMtV8CWTfy+j7Bny8vnIQwm+MU2TGhvWIz2r3o/V/iFNjGuHrMqE2MiCmKiWy1gwjk/ClW+/zAfxC+IKVEeRY+6X1wuunXesN4cTst40QKjIjYofr7taNUHYpsbiFdzLvET0LxwBd2QMzdnDET/ ubuntu@ubuntu-xenial\" .ssh/authorized_keys || { echo \"Adding key\"; echo \"ssh-rsa AAAAB3NzaC1yc2EAAAADAQABAAABAQDKrUEty+kY1B6M1K/7xvWAJIIi3s50Q7ltvXgbz3bJDu/2laSO7FL+/oxB/fzdV4KTNh9VS8ZYhFgISdgo1OAVKCeoIO30Z/dO4jXpbT1ZeXSEXyVCp+zwiJZ+j8O5rxFJxgjDxpa1S90QYocOiAz7HSq1C/KP3ekVTrgHYdgNxamiQpaWmEqTMfI7hDN42enpQKMtV8CWTfy+j7Bny8vnIQwm+MU2TGhvWIz2r3o/V/iFNjGuHrMqE2MiCmKiWy1gwjk/ClW+/zAfxC+IKVEeRY+6X1wuunXesN4cTst40QKjIjYofr7taNUHYpsbiFdzLvET0LxwBd2QMzdnDET/ ubuntu@ubuntu-xenial\" >> .ssh/authorized_keys; }; ls -al .ssh/; wc .ssh/authorized_keys\n",
      "user@container1\n",
      "ls: cannot access '.ssh': No such file or directory\n",
      "Creating dir .ssh\n",
      "grep: .ssh/authorized_keys: No such file or directory\n",
      "Adding key\n",
      "total 12\n",
      "drwxr-xr-x 2 user users 4096 Apr 26 18:22 .\n",
      "drwxr-xr-x 4 user users 4096 Apr 26 18:22 ..\n",
      "-rw-r--r-- 1 user users  402 Apr 26 18:22 authorized_keys\n",
      "  1   3 402 .ssh/authorized_keys\n",
      "$ sudo -i\n",
      "sudo -i\n",
      "[sudo] password for user: password\n",
      "password^J\n",
      "root@container1:~# echo ${USER}@$(hostname); ls -altr .ssh; [ ! -d .ssh ] && { echo \"Creating dir .ssh\"; mkdir .ssh; }; grep -q \"ssh-rsa AAAAB3NzaC1yc2EAAAADAQABAAABAQDKrUEty+kY1B6M1K/7xvWAJIIi3s50Q7ltvXgbz3bJDu/2laSO7FL+/oxB/fzdV4KTNh9VS8ZYhFgISdgo1OAVKCeoIO30Z/dO4jXpbT1ZeXSEXyVCp+zwiJZ+j8O5rxFJxgjDxpa1S90QYocOiAz7HSq1C/KP3ekVTrgHYdgNxamiQpaWmEqTMfI7hDN42enpQKMtV8CWTfy+j7Bny8vnIQwm+MU2TGhvWIz2r3o/V/iFNjGuHrMqE2MiCmKiWy1gwjk/ClW+/zAfxC+IKVEeRY+6X1wuunXesN4cTst40QKjIjYofr7taNUHYpsbiFdzLvET0LxwBd2QMzdnDET/ ubuntu@ubuntu-xenial\" .ssh/authorized_keys || { echo \"Adding key\"; echo \"ssh-rsa AAAAB3NzaC1yc2EAAAADAQABAAABAQDKrUEty+kY1B6M1K/7xvWAJIIi3s50Q7ltvXgbz3bJDu/2laSO7FL+/oxB/fzdV4KTNh9VS8ZYhFgISdgo1OAVKCeoIO30Z/dO4jXpbT1ZeXSEXyVCp+zwiJZ+j8O5rxFJxgjDxpa1S90QYocOiAz7HSq1C/KP3ekVTrgHYdgNxamiQpaWmEqTMfI7hDN42enpQKMtV8CWTfy+j7Bny8vnIQwm+MU2TGhvWIz2r3o/V/iFNjGuHrMqE2MiCmKiWy1gwjk/ClW+/zAfxC+IKVEeRY+6X1wuunXesN4cTst40QKjIjYofr7taNUHYpsbiFdzLvET0LxwBd2QMzdnDET/ ubuntu@ubuntu-xenial\" >> .ssh/authorized_keys; }; ls -al .ssh/; wc .ssh/authorized_keys\n",
      "<.ssh/authorized_keys; }; ls -al .ssh/; wc .ssh/auth                         \b\b\b\b\b\b\b\b\b\b\b\b\b\b\b\b\b\b\b\b\b\b\b\b\borized_keys\n",
      "root@container1\n",
      "total 12\n",
      "drwx------ 2 root root 4096 Apr 26 18:19 .\n",
      "-rw-r--r-- 1 root root  222 Apr 26 18:19 known_hosts\n",
      "drwx------ 3 root root 4096 Apr 26 18:19 ..\n",
      "grep: .ssh/authorized_keys: No such file or directory\n",
      "Adding key\n",
      "total 16\n",
      "drwx------ 2 root root 4096 Apr 26 18:22 .\n",
      "drwx------ 3 root root 4096 Apr 26 18:19 ..\n",
      "-rw-r--r-- 1 root root  402 Apr 26 18:22 authorized_keys\n",
      "-rw-r--r-- 1 root root  222 Apr 26 18:19 known_hosts\n",
      "  1   3 402 .ssh/authorized_keys\n",
      "root@container1:~# ssh  -l user 172.17.0.3\n",
      "ssh  -l user 172.17.0.3^Jssh  -l user 172.17.0.3\n",
      "user@172.17.0.3's password: password\n",
      "password^J\n",
      "Welcome to Ubuntu 16.04 LTS (GNU/Linux 4.4.0-21-generic x86_64)\n",
      "\n",
      " * Documentation:  https://help.ubuntu.com/\n",
      "Last login: Tue Apr 26 18:19:47 2016 from 172.17.0.2\n",
      "$ echo ${USER}@$(hostname); ls -altr .ssh; [ ! -d .ssh ] && { echo \"Creating dir .ssh\"; mkdir .ssh; }; grep -q \"ssh-rsa AAAAB3NzaC1yc2EAAAADAQABAAABAQDKrUEty+kY1B6M1K/7xvWAJIIi3s50Q7ltvXgbz3bJDu/2laSO7FL+/oxB/fzdV4KTNh9VS8ZYhFgISdgo1OAVKCeoIO30Z/dO4jXpbT1ZeXSEXyVCp+zwiJZ+j8O5rxFJxgjDxpa1S90QYocOiAz7HSq1C/KP3ekVTrgHYdgNxamiQpaWmEqTMfI7hDN42enpQKMtV8CWTfy+j7Bny8vnIQwm+MU2TGhvWIz2r3o/V/iFNjGuHrMqE2MiCmKiWy1gwjk/ClW+/zAfxC+IKVEeRY+6X1wuunXesN4cTst40QKjIjYofr7taNUHYpsbiFdzLvET0LxwBd2QMzdnDET/ ubuntu@ubuntu-xenial\" .ssh/authorized_keys || { echo \"Adding key\"; echo \"ssh-rsa AAAAB3NzaC1yc2EAAAADAQABAAABAQDKrUEty+kY1B6M1K/7xvWAJIIi3s50Q7ltvXgbz3bJDu/2laSO7FL+/oxB/fzdV4KTNh9VS8ZYhFgISdgo1OAVKCeoIO30Z/dO4jXpbT1ZeXSEXyVCp+zwiJZ+j8O5rxFJxgjDxpa1S90QYocOiAz7HSq1C/KP3ekVTrgHYdgNxamiQpaWmEqTMfI7hDN42enpQKMtV8CWTfy+j7Bny8vnIQwm+MU2TGhvWIz2r3o/V/iFNjGuHrMqE2MiCmKiWy1gwjk/ClW+/zAfxC+IKVEeRY+6X1wuunXesN4cTst40QKjIjYofr7taNUHYpsbiFdzLvET0LxwBd2QMzdnDET/ ubuntu@ubuntu-xenial\" >> .ssh/authorized_keys; }; ls -al .ssh/; wc .ssh/authorized_keys\n",
      "echo ${USER}@$(hostname); ls -altr .ssh; [ ! -d .ssh ] && { echo \"Creating dir .ssh\"; mkdir .ssh; }; grep -q \"ssh-rsa AAAAB3NzaC1yc2EAAAADAQABAAABAQDKrUEty+kY1B6M1K/7xvWAJIIi3s50Q7ltvXgbz3bJDu/2laSO7FL+/oxB/fzdV4KTNh9VS8ZYhFgISdgo1OAVKCeoIO30Z/dO4jXpbT1ZeXSEXyVCp+zwiJZ+j8O5rxFJxgjDxpa1S90QYocOiAz7HSq1C/KP3ekVTrgHYdgNxamiQpaWmEqTMfI7hDN42enpQKMtV8CWTfy+j7Bny8vnIQwm+MU2TGhvWIz2r3o/V/iFNjGuHrMqE2MiCmKiWy1gwjk/ClW+/zAfxC+IKVEeRY+6X1wuunXesN4cTst40QKjIjYofr7taNUHYpsbiFdzLvET0LxwBd2QMzdnDET/ ubuntu@ubuntu-xenial\" .ssh/authorized_keys || { echo \"Adding key\"; echo \"ssh-rsa AAAAB3NzaC1yc2EAAAADAQABAAABAQDKrUEty+kY1B6M1K/7xvWAJIIi3s50Q7ltvXgbz3bJDu/2laSO7FL+/oxB/fzdV4KTNh9VS8ZYhFgISdgo1OAVKCeoIO30Z/dO4jXpbT1ZeXSEXyVCp+zwiJZ+j8O5rxFJxgjDxpa1S90QYocOiAz7HSq1C/KP3ekVTrgHYdgNxamiQpaWmEqTMfI7hDN42enpQKMtV8CWTfy+j7Bny8vnIQwm+MU2TGhvWIz2r3o/V/iFNjGuHrMqE2MiCmKiWy1gwjk/ClW+/zAfxC+IKVEeRY+6X1wuunXesN4cTst40QKjIjYofr7taNUHYpsbiFdzLvET0LxwBd2QMzdnDET/ ubuntu@ubuntu-xenial\" >> .ssh/authorized_keys; }; ls -al .ssh/; wc .ssh/authorized_keys^Jecho ${USER}@$(hostname); ls -altr .ssh; [ ! -d .ssh ] && { echo \"Creating dir .ssh\"; mkdir .ssh; }; grep -q \"ssh-rsa AAAAB3NzaC1yc2EAAAADAQABAAABAQDKrUEty+kY1B6M1K/7xvWAJIIi3s50Q7ltvXgbz3bJDu/2laSO7FL+/oxB/fzdV4KTNh9VS8ZYhFgISdgo1OAVKCeoIO30Z/dO4jXpbT1ZeXSEXyVCp+zwiJZ+j8O5rxFJxgjDxpa1S90QYocOiAz7HSq1C/KP3ekVTrgHYdgNxamiQpaWmEqTMfI7hDN42enpQKMtV8CWTfy+j7Bny8vnIQwm+MU2TGhvWIz2r3o/V/iFNjGuHrMqE2MiCmKiWy1gwjk/ClW+/zAfxC+IKVEeRY+6X1wuunXesN4cTst40QKjIjYofr7taNUHYpsbiFdzLvET0LxwBd2QMzdnDET/ ubuntu@ubuntu-xenial\" .ssh/authorized_keys || { echo \"Adding key\"; echo \"ssh-rsa AAAAB3NzaC1yc2EAAAADAQABAAABAQDKrUEty+kY1B6M1K/7xvWAJIIi3s50Q7ltvXgbz3bJDu/2laSO7FL+/oxB/fzdV4KTNh9VS8ZYhFgISdgo1OAVKCeoIO30Z/dO4jXpbT1ZeXSEXyVCp+zwiJZ+j8O5rxFJxgjDxpa1S90QYocOiAz7HSq1C/KP3ekVTrgHYdgNxamiQpaWmEqTMfI7hDN42enpQKMtV8CWTfy+j7Bny8vnIQwm+MU2TGhvWIz2r3o/V/iFNjGuHrMqE2MiCmKiWy1gwjk/ClW+/zAfxC+IKVEeRY+6X1wuunXesN4cTst40QKjIjYofr7taNUHYpsbiFdzLvET0LxwBd2QMzdnDET/ ubuntu@ubuntu-xenial\" >> .ssh/authorized_keys; }; ls -al .ssh/; wc .ssh/authorized_keys\n",
      "user@container2\n",
      "ls: cannot access '.ssh': No such file or directory\n",
      "Creating dir .ssh\n",
      "grep: .ssh/authorized_keys: No such file or directory\n",
      "Adding key\n",
      "total 12\n",
      "drwxr-xr-x 2 user users 4096 Apr 26 18:22 .\n",
      "drwxr-xr-x 4 user users 4096 Apr 26 18:22 ..\n",
      "-rw-r--r-- 1 user users  402 Apr 26 18:22 authorized_keys\n",
      "  1   3 402 .ssh/authorized_keys\n",
      "$ sudo -i\n",
      "sudo -i^Jsudo -i\n",
      "[sudo] password for user: password\n",
      "\n",
      "root@container2:~# echo ${USER}@$(hostname); ls -altr .ssh; [ ! -d .ssh ] && { echo \"Creating dir .ssh\"; mkdir .ssh; }; grep -q \"ssh-rsa AAAAB3NzaC1yc2EAAAADAQABAAABAQDKrUEty+kY1B6M1K/7xvWAJIIi3s50Q7ltvXgbz3bJDu/2laSO7FL+/oxB/fzdV4KTNh9VS8ZYhFgISdgo1OAVKCeoIO30Z/dO4jXpbT1ZeXSEXyVCp+zwiJZ+j8O5rxFJxgjDxpa1S90QYocOiAz7HSq1C/KP3ekVTrgHYdgNxamiQpaWmEqTMfI7hDN42enpQKMtV8CWTfy+j7Bny8vnIQwm+MU2TGhvWIz2r3o/V/iFNjGuHrMqE2MiCmKiWy1gwjk/ClW+/zAfxC+IKVEeRY+6X1wuunXesN4cTst40QKjIjYofr7taNUHYpsbiFdzLvET0LxwBd2QMzdnDET/ ubuntu@ubuntu-xenial\" .ssh/authorized_keys || { echo \"Adding key\"; echo \"ssh-rsa AAAAB3NzaC1yc2EAAAADAQABAAABAQDKrUEty+kY1B6M1K/7xvWAJIIi3s50Q7ltvXgbz3bJDu/2laSO7FL+/oxB/fzdV4KTNh9VS8ZYhFgISdgo1OAVKCeoIO30Z/dO4jXpbT1ZeXSEXyVCp+zwiJZ+j8O5rxFJxgjDxpa1S90QYocOiAz7HSq1C/KP3ekVTrgHYdgNxamiQpaWmEqTMfI7hDN42enpQKMtV8CWTfy+j7Bny8vnIQwm+MU2TGhvWIz2r3o/V/iFNjGuHrMqE2MiCmKiWy1gwjk/ClW+/zAfxC+IKVEeRY+6X1wuunXesN4cTst40QKjIjYofr7taNUHYpsbiFdzLvET0LxwBd2QMzdnDET/ ubuntu@ubuntu-xenial\" >> .ssh/authorized_keys; }; ls -al .ssh/; wc .ssh/authorized_keys\n",
      "<.ssh/authorized_keys; }; ls -al .ssh/; wc .ssh/auth                         \b\b\b\b\b\b\b\b\b\b\b\b\b\b\b\b\b\b\b\b\b\b\b\b\borized_keys\n",
      "root@container2\n",
      "total 12\n",
      "-rw-r--r-- 1 root root  222 Apr 26 18:19 known_hosts\n",
      "drwx------ 2 root root 4096 Apr 26 18:19 .\n",
      "drwx------ 3 root root 4096 Apr 26 18:19 ..\n",
      "grep: .ssh/authorized_keys: No such file or directory\n",
      "Adding key\n",
      "total 16\n",
      "drwx------ 2 root root 4096 Apr 26 18:22 .\n",
      "drwx------ 3 root root 4096 Apr 26 18:19 ..\n",
      "-rw-r--r-- 1 root root  402 Apr 26 18:22 authorized_keys\n",
      "-rw-r--r-- 1 root root  222 Apr 26 18:19 known_hosts\n",
      "  1   3 402 .ssh/authorized_keys\n",
      "root@container2:~# ssh  -l user 172.17.0.4\n",
      "ssh  -l user 172.17.0.4^Jssh  -l user 172.17.0.4\n",
      "user@172.17.0.4's password: password\n",
      "password^J\n",
      "Welcome to Ubuntu 16.04 LTS (GNU/Linux 4.4.0-21-generic x86_64)\n",
      "\n",
      " * Documentation:  https://help.ubuntu.com/\n",
      "Last login: Tue Apr 26 18:19:49 2016 from 172.17.0.3\n",
      "$ echo ${USER}@$(hostname); ls -altr .ssh; [ ! -d .ssh ] && { echo \"Creating dir .ssh\"; mkdir .ssh; }; grep -q \"ssh-rsa AAAAB3NzaC1yc2EAAAADAQABAAABAQDKrUEty+kY1B6M1K/7xvWAJIIi3s50Q7ltvXgbz3bJDu/2laSO7FL+/oxB/fzdV4KTNh9VS8ZYhFgISdgo1OAVKCeoIO30Z/dO4jXpbT1ZeXSEXyVCp+zwiJZ+j8O5rxFJxgjDxpa1S90QYocOiAz7HSq1C/KP3ekVTrgHYdgNxamiQpaWmEqTMfI7hDN42enpQKMtV8CWTfy+j7Bny8vnIQwm+MU2TGhvWIz2r3o/V/iFNjGuHrMqE2MiCmKiWy1gwjk/ClW+/zAfxC+IKVEeRY+6X1wuunXesN4cTst40QKjIjYofr7taNUHYpsbiFdzLvET0LxwBd2QMzdnDET/ ubuntu@ubuntu-xenial\" .ssh/authorized_keys || { echo \"Adding key\"; echo \"ssh-rsa AAAAB3NzaC1yc2EAAAADAQABAAABAQDKrUEty+kY1B6M1K/7xvWAJIIi3s50Q7ltvXgbz3bJDu/2laSO7FL+/oxB/fzdV4KTNh9VS8ZYhFgISdgo1OAVKCeoIO30Z/dO4jXpbT1ZeXSEXyVCp+zwiJZ+j8O5rxFJxgjDxpa1S90QYocOiAz7HSq1C/KP3ekVTrgHYdgNxamiQpaWmEqTMfI7hDN42enpQKMtV8CWTfy+j7Bny8vnIQwm+MU2TGhvWIz2r3o/V/iFNjGuHrMqE2MiCmKiWy1gwjk/ClW+/zAfxC+IKVEeRY+6X1wuunXesN4cTst40QKjIjYofr7taNUHYpsbiFdzLvET0LxwBd2QMzdnDET/ ubuntu@ubuntu-xenial\" >> .ssh/authorized_keys; }; ls -al .ssh/; wc .ssh/authorized_keys\n",
      "echo ${USER}@$(hostname); ls -altr .ssh; [ ! -d .ssh ] && { echo \"Creating dir .ssh\"; mkdir .ssh; }; grep -q \"ssh-rsa AAAAB3NzaC1yc2EAAAADAQABAAABAQDKrUEty+kY1B6M1K/7xvWAJIIi3s50Q7ltvXgbz3bJDu/2laSO7FL+/oxB/fzdV4KTNh9VS8ZYhFgISdgo1OAVKCeoIO30Z/dO4jXpbT1ZeXSEXyVCp+zwiJZ+j8O5rxFJxgjDxpa1S90QYocOiAz7HSq1C/KP3ekVTrgHYdgNxamiQpaWmEqTMfI7hDN42enpQKMtV8CWTfy+j7Bny8vnIQwm+MU2TGhvWIz2r3o/V/iFNjGuHrMqE2MiCmKiWy1gwjk/ClW+/zAfxC+IKVEeRY+6X1wuunXesN4cTst40QKjIjYofr7taNUHYpsbiFdzLvET0LxwBd2QMzdnDET/ ubuntu@ubuntu-xenial\" .ssh/authorized_keys || { echo \"Adding key\"; echo \"ssh-rsa AAAAB3NzaC1yc2EAAAADAQABAAABAQDKrUEty+kY1B6M1K/7xvWAJIIi3s50Q7ltvXgbz3bJDu/2laSO7FL+/oxB/fzdV4KTNh9VS8ZYhFgISdgo1OAVKCeoIO30Z/dO4jXpbT1ZeXSEXyVCp+zwiJZ+j8O5rxFJxgjDxpa1S90QYocOiAz7HSq1C/KP3ekVTrgHYdgNxamiQpaWmEqTMfI7hDN42enpQKMtV8CWTfy+j7Bny8vnIQwm+MU2TGhvWIz2r3o/V/iFNjGuHrMqE2MiCmKiWy1gwjk/ClW+/zAfxC+IKVEeRY+6X1wuunXesN4cTst40QKjIjYofr7taNUHYpsbiFdzLvET0LxwBd2QMzdnDET/ ubuntu@ubuntu-xenial\" >> .ssh/authorized_keys; }; ls -al .ssh/; wc .ssh/authorized_keys^Jecho ${USER}@$(hostname); ls -altr .ssh; [ ! -d .ssh ] && { echo \"Creating dir .ssh\"; mkdir .ssh; }; grep -q \"ssh-rsa AAAAB3NzaC1yc2EAAAADAQABAAABAQDKrUEty+kY1B6M1K/7xvWAJIIi3s50Q7ltvXgbz3bJDu/2laSO7FL+/oxB/fzdV4KTNh9VS8ZYhFgISdgo1OAVKCeoIO30Z/dO4jXpbT1ZeXSEXyVCp+zwiJZ+j8O5rxFJxgjDxpa1S90QYocOiAz7HSq1C/KP3ekVTrgHYdgNxamiQpaWmEqTMfI7hDN42enpQKMtV8CWTfy+j7Bny8vnIQwm+MU2TGhvWIz2r3o/V/iFNjGuHrMqE2MiCmKiWy1gwjk/ClW+/zAfxC+IKVEeRY+6X1wuunXesN4cTst40QKjIjYofr7taNUHYpsbiFdzLvET0LxwBd2QMzdnDET/ ubuntu@ubuntu-xenial\" .ssh/authorized_keys || { echo \"Adding key\"; echo \"ssh-rsa AAAAB3NzaC1yc2EAAAADAQABAAABAQDKrUEty+kY1B6M1K/7xvWAJIIi3s50Q7ltvXgbz3bJDu/2laSO7FL+/oxB/fzdV4KTNh9VS8ZYhFgISdgo1OAVKCeoIO30Z/dO4jXpbT1ZeXSEXyVCp+zwiJZ+j8O5rxFJxgjDxpa1S90QYocOiAz7HSq1C/KP3ekVTrgHYdgNxamiQpaWmEqTMfI7hDN42enpQKMtV8CWTfy+j7Bny8vnIQwm+MU2TGhvWIz2r3o/V/iFNjGuHrMqE2MiCmKiWy1gwjk/ClW+/zAfxC+IKVEeRY+6X1wuunXesN4cTst40QKjIjYofr7taNUHYpsbiFdzLvET0LxwBd2QMzdnDET/ ubuntu@ubuntu-xenial\" >> .ssh/authorized_keys; }; ls -al .ssh/; wc .ssh/authorized_keys\n",
      "user@container3\n",
      "ls: cannot access '.ssh': No such file or directory\n",
      "Creating dir .ssh\n",
      "grep: .ssh/authorized_keys: No such file or directory\n",
      "Adding key\n",
      "total 12\n",
      "drwxr-xr-x 2 user users 4096 Apr 26 18:22 .\n",
      "drwxr-xr-x 4 user users 4096 Apr 26 18:22 ..\n",
      "-rw-r--r-- 1 user users  402 Apr 26 18:22 authorized_keys\n",
      "  1   3 402 .ssh/authorized_keys\n",
      "$ sudo -i\n",
      "sudo -i^Jsudo -i\n",
      "[sudo] password for user: password\n",
      "\n",
      "root@container3:~# echo ${USER}@$(hostname); ls -altr .ssh; [ ! -d .ssh ] && { echo \"Creating dir .ssh\"; mkdir .ssh; }; grep -q \"ssh-rsa AAAAB3NzaC1yc2EAAAADAQABAAABAQDKrUEty+kY1B6M1K/7xvWAJIIi3s50Q7ltvXgbz3bJDu/2laSO7FL+/oxB/fzdV4KTNh9VS8ZYhFgISdgo1OAVKCeoIO30Z/dO4jXpbT1ZeXSEXyVCp+zwiJZ+j8O5rxFJxgjDxpa1S90QYocOiAz7HSq1C/KP3ekVTrgHYdgNxamiQpaWmEqTMfI7hDN42enpQKMtV8CWTfy+j7Bny8vnIQwm+MU2TGhvWIz2r3o/V/iFNjGuHrMqE2MiCmKiWy1gwjk/ClW+/zAfxC+IKVEeRY+6X1wuunXesN4cTst40QKjIjYofr7taNUHYpsbiFdzLvET0LxwBd2QMzdnDET/ ubuntu@ubuntu-xenial\" .ssh/authorized_keys || { echo \"Adding key\"; echo \"ssh-rsa AAAAB3NzaC1yc2EAAAADAQABAAABAQDKrUEty+kY1B6M1K/7xvWAJIIi3s50Q7ltvXgbz3bJDu/2laSO7FL+/oxB/fzdV4KTNh9VS8ZYhFgISdgo1OAVKCeoIO30Z/dO4jXpbT1ZeXSEXyVCp+zwiJZ+j8O5rxFJxgjDxpa1S90QYocOiAz7HSq1C/KP3ekVTrgHYdgNxamiQpaWmEqTMfI7hDN42enpQKMtV8CWTfy+j7Bny8vnIQwm+MU2TGhvWIz2r3o/V/iFNjGuHrMqE2MiCmKiWy1gwjk/ClW+/zAfxC+IKVEeRY+6X1wuunXesN4cTst40QKjIjYofr7taNUHYpsbiFdzLvET0LxwBd2QMzdnDET/ ubuntu@ubuntu-xenial\" >> .ssh/authorized_keys; }; ls -al .ssh/; wc .ssh/authorized_keys\n",
      "<.ssh/authorized_keys; }; ls -al .ssh/; wc .ssh/auth                         \b\b\b\b\b\b\b\b\b\b\b\b\b\b\b\b\b\b\b\b\b\b\b\b\borized_keys\n",
      "root@container3\n",
      "ls: cannot access '.ssh': No such file or directory\n",
      "Creating dir .ssh\n",
      "grep: .ssh/authorized_keys: No such file or directory\n",
      "Adding key\n",
      "total 12\n",
      "drwxr-xr-x 2 root root 4096 Apr 26 18:22 .\n",
      "drwx------ 3 root root 4096 Apr 26 18:22 ..\n",
      "-rw-r--r-- 1 root root  402 Apr 26 18:22 authorized_keys\n",
      "  1   3 402 .ssh/authorized_keys\n",
      "root@container3:~# "
     ]
    }
   ],
   "source": [
    "KEY=\"~/.ssh/id_rsa\"\n",
    "INSTALL_KEYS=\"-C INSTALL_KEY \" + KEY + \" -C SUDO -C INSTALL_KEY \" + KEY\n",
    "!echo $MH -d $HOST1 $INSTALL_KEYS $HOST2 $INSTALL_KEYS $HOST3 $INSTALL_KEYS \n",
    "!$MH -d $HOST1 $INSTALL_KEYS $HOST2 $INSTALL_KEYS $HOST3 $INSTALL_KEYS "
   ]
  },
  {
   "cell_type": "markdown",
   "metadata": {},
   "source": [
    "# Pexpect demos\n",
    "##  Switch config: login, navigation, paging"
   ]
  },
  {
   "cell_type": "markdown",
   "metadata": {
    "collapsed": false,
    "slideshow": {
     "slide_type": "slide"
    }
   },
   "source": [
    "#### Just do this on command line from PC:\n",
    "\n",
    " /home/mjbright/src/Experiments/wexpect/MJB/get_switches_config.sh\n",
    "    "
   ]
  },
  {
   "cell_type": "markdown",
   "metadata": {},
   "source": [
    "# Documentation [pexpect](https://pexpect.readthedocs.org)\n",
    "- [Examples](https://pexpect.readthedocs.org/en/stable/examples.html)"
   ]
  },
  {
   "cell_type": "markdown",
   "metadata": {
    "slideshow": {
     "slide_type": "slide"
    }
   },
   "source": [
    "# La fin"
   ]
  },
  {
   "cell_type": "code",
   "execution_count": null,
   "metadata": {
    "collapsed": true
   },
   "outputs": [],
   "source": []
  }
 ],
 "metadata": {
  "celltoolbar": "Slideshow",
  "kernelspec": {
   "display_name": "Python 3",
   "language": "python",
   "name": "python3"
  },
  "language_info": {
   "codemirror_mode": {
    "name": "ipython",
    "version": 3
   },
   "file_extension": ".py",
   "mimetype": "text/x-python",
   "name": "python",
   "nbconvert_exporter": "python",
   "pygments_lexer": "ipython3",
   "version": "3.5.1"
  }
 },
 "nbformat": 4,
 "nbformat_minor": 0
}
